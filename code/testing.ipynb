{
 "cells": [
  {
   "cell_type": "code",
   "execution_count": 2,
   "metadata": {
    "ExecuteTime": {
     "end_time": "2020-04-25T03:54:03.507385Z",
     "start_time": "2020-04-25T03:54:00.424445Z"
    }
   },
   "outputs": [],
   "source": [
    "import os\n",
    "picpath = 'C://Users/yangy/Dropbox/Photos/misc/IG_Scrape/apple/' # path to save photos\n",
    "credpath = 'C://Users/yangy/Dropbox/Scraper/IG Scraper/Code/creds.json' # where your credentials are stored\n",
    "# creds = {'un':yourusername, 'pw':yourpassword}\n",
    "try:\n",
    "    os.listdir(picpath)\n",
    "except:\n",
    "    os.mkdir(picpath)\n",
    "import scraper\n",
    "IG = scraper.ig_scraper(creds = credpath) # Initiate IG object\n",
    "# IG.log_in() # Log in (should have a json file of login creditials)"
   ]
  },
  {
   "cell_type": "code",
   "execution_count": 3,
   "metadata": {
    "ExecuteTime": {
     "end_time": "2020-04-25T04:00:23.424010Z",
     "start_time": "2020-04-25T03:54:11.255558Z"
    }
   },
   "outputs": [
    {
     "name": "stderr",
     "output_type": "stream",
     "text": [
      "C:\\Users\\yangy\\Dropbox\\GitCommits\\IGScraper\\IGScraper\\code\\scraper.py:79: UserWarning: No parser was explicitly specified, so I'm using the best available HTML parser for this system (\"lxml\"). This usually isn't a problem, but if you run this code on another system, or in a different virtual environment, it may use a different parser and behave differently.\n",
      "\n",
      "The code that caused this warning is on line 79 of the file C:\\Users\\yangy\\Dropbox\\GitCommits\\IGScraper\\IGScraper\\code\\scraper.py. To get rid of this warning, pass the additional argument 'features=\"lxml\"' to the BeautifulSoup constructor.\n",
      "\n",
      "  self.bs = BS(self.sc)\n"
     ]
    },
    {
     "name": "stdout",
     "output_type": "stream",
     "text": [
      "Posts to D/L: 645\n"
     ]
    }
   ],
   "source": [
    "IG.get_user('apple')\n",
    "IG.scroll_page(sleep = 7)\n",
    "print('Posts to D/L: {}'.format(len(IG.piclinks_profile)))\n"
   ]
  },
  {
   "cell_type": "code",
   "execution_count": 4,
   "metadata": {
    "ExecuteTime": {
     "end_time": "2020-04-25T05:02:28.302883Z",
     "start_time": "2020-04-25T04:01:09.774980Z"
    }
   },
   "outputs": [
    {
     "name": "stderr",
     "output_type": "stream",
     "text": [
      "C:\\Users\\yangy\\Dropbox\\GitCommits\\IGScraper\\IGScraper\\code\\scraper.py:176: UserWarning: No parser was explicitly specified, so I'm using the best available HTML parser for this system (\"lxml\"). This usually isn't a problem, but if you run this code on another system, or in a different virtual environment, it may use a different parser and behave differently.\n",
      "\n",
      "The code that caused this warning is on line 176 of the file C:\\Users\\yangy\\Dropbox\\GitCommits\\IGScraper\\IGScraper\\code\\scraper.py. To get rid of this warning, pass the additional argument 'features=\"lxml\"' to the BeautifulSoup constructor.\n",
      "\n",
      "  j = [s for s in BS(sc).find_all('script') if 'platform' in str(s)][0].text\n",
      "C:\\Users\\yangy\\Dropbox\\GitCommits\\IGScraper\\IGScraper\\code\\scraper.py:129: UserWarning: No parser was explicitly specified, so I'm using the best available HTML parser for this system (\"lxml\"). This usually isn't a problem, but if you run this code on another system, or in a different virtual environment, it may use a different parser and behave differently.\n",
      "\n",
      "The code that caused this warning is on line 129 of the file C:\\Users\\yangy\\Dropbox\\GitCommits\\IGScraper\\IGScraper\\code\\scraper.py. To get rid of this warning, pass the additional argument 'features=\"lxml\"' to the BeautifulSoup constructor.\n",
      "\n",
      "  bs = BS(self.driver.page_source)\n"
     ]
    }
   ],
   "source": [
    "IG.get_all_photos(fpath = picpath, sleep = 3) # Get all photos"
   ]
  },
  {
   "cell_type": "code",
   "execution_count": 5,
   "metadata": {
    "ExecuteTime": {
     "end_time": "2020-04-25T05:02:28.314826Z",
     "start_time": "2020-04-25T05:02:28.303856Z"
    }
   },
   "outputs": [
    {
     "data": {
      "text/plain": [
       "'Downloaded photos: 1696'"
      ]
     },
     "execution_count": 5,
     "metadata": {},
     "output_type": "execute_result"
    }
   ],
   "source": [
    "import os\n",
    "'Downloaded photos: {}'.format(len(list(filter(lambda x: ('.jpg' in x) | ('.mp4' in x), os.listdir(picpath)))))\n",
    "# There can be more photos than posts since some posts have multiple photos"
   ]
  },
  {
   "cell_type": "code",
   "execution_count": 6,
   "metadata": {
    "ExecuteTime": {
     "end_time": "2020-04-25T05:02:30.634059Z",
     "start_time": "2020-04-25T05:02:28.315824Z"
    }
   },
   "outputs": [],
   "source": [
    "IG.quit() # clean up"
   ]
  },
  {
   "cell_type": "code",
   "execution_count": null,
   "metadata": {},
   "outputs": [],
   "source": []
  }
 ],
 "metadata": {
  "hide_input": false,
  "kernelspec": {
   "display_name": "Python 3",
   "language": "python",
   "name": "python3"
  },
  "language_info": {
   "codemirror_mode": {
    "name": "ipython",
    "version": 3
   },
   "file_extension": ".py",
   "mimetype": "text/x-python",
   "name": "python",
   "nbconvert_exporter": "python",
   "pygments_lexer": "ipython3",
   "version": "3.7.7"
  },
  "latex_envs": {
   "LaTeX_envs_menu_present": true,
   "autoclose": false,
   "autocomplete": true,
   "bibliofile": "biblio.bib",
   "cite_by": "apalike",
   "current_citInitial": 1,
   "eqLabelWithNumbers": true,
   "eqNumInitial": 1,
   "hotkeys": {
    "equation": "Ctrl-E",
    "itemize": "Ctrl-I"
   },
   "labels_anchors": false,
   "latex_user_defs": false,
   "report_style_numbering": false,
   "user_envs_cfg": false
  }
 },
 "nbformat": 4,
 "nbformat_minor": 4
}
